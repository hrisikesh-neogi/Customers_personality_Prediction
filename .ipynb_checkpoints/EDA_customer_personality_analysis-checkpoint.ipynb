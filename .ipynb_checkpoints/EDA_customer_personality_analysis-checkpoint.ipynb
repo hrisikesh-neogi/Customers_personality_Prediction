{
 "cells": [
  {
   "cell_type": "markdown",
   "id": "1e37969a",
   "metadata": {},
   "source": [
    "![image info](https://ineuron.ai/images/ineuron-logo.png)"
   ]
  },
  {
   "cell_type": "markdown",
   "id": "d58eab01",
   "metadata": {},
   "source": [
    "# Holiday Package Prediciton\n",
    "**Life cycle of Machine learning Project**\n",
    "\n",
    "* Understanding the Problem Statement\n",
    "* Data Collection\n",
    "* Data Cleaning\n",
    "* Exploratory data analysis\n",
    "* Data Pre-Processing\n",
    "* Model Training \n",
    "* Choose best model"
   ]
  },
  {
   "cell_type": "markdown",
   "id": "1036af93",
   "metadata": {},
   "source": [
    "## 1) Problem statement.\n",
    "\n",
    "* **xyz** company wants to enable and establish a viable business model to expand the customer base. \n",
    "* One of the ways to expand the customer base is to introduce a new offering of packages based on the customer personalities. \n",
    "* The company wants to segregate the customers so that they can release relevant offers for the respective customers"
   ]
  },
  {
   "cell_type": "markdown",
   "id": "435d90f3",
   "metadata": {},
   "source": [
    "### **What is Customer personality analysis and segmentation?**\n",
    "\n",
    "Customer Personality Analysis is a detailed analysis of a company’s ideal customers. It helps a business to better understand its customers and makes it easier for them to modify products according to the specific needs, behaviors and concerns of different types of customers.\n",
    "\n",
    "Customer personality analysis helps a business to modify its product based on its target customers from different types of customer segments. For example, instead of spending money to market a new product to every customer in the company’s database, a company can analyze which customer segment is most likely to buy the product and then market the product only on that particular segment.\n"
   ]
  },
  {
   "cell_type": "markdown",
   "id": "b229fd41",
   "metadata": {},
   "source": [
    "## 2. Data Collection\n",
    "- The dataset is downloaded from https://github.com/entbappy/Branching-tutorial/blob/master/marketing_campaign.zip"
   ]
  },
  {
   "cell_type": "markdown",
   "id": "51d88943",
   "metadata": {},
   "source": [
    "### 2.1 Import Data and Required Packages"
   ]
  },
  {
   "cell_type": "markdown",
   "id": "ebc24403",
   "metadata": {},
   "source": [
    "**Importing Pandas, Numpy, Matplotlib, Seaborn and Warings Library.**"
   ]
  },
  {
   "cell_type": "code",
   "execution_count": 1,
   "id": "497ada02",
   "metadata": {},
   "outputs": [],
   "source": [
    "import pandas as pd\n",
    "import numpy as np\n",
    "import matplotlib.pyplot as plt\n",
    "import datetime as dt\n",
    "import seaborn as sns\n",
    "import plotly.express as px\n",
    "import warnings\n",
    "\n",
    "warnings.filterwarnings(\"ignore\")\n",
    "\n",
    "%matplotlib inline"
   ]
  },
  {
   "cell_type": "markdown",
   "id": "559a2ae1",
   "metadata": {},
   "source": [
    "**We will set the pandas.set_option to display 100 rows or columns. By default it is 60**"
   ]
  },
  {
   "cell_type": "code",
   "execution_count": 2,
   "id": "4300ed18",
   "metadata": {},
   "outputs": [],
   "source": [
    "pd.set_option(\"display.max_columns\",100)\n",
    "pd.set_option(\"display.max_rows\",100)"
   ]
  },
  {
   "cell_type": "markdown",
   "id": "7fb6e8ec",
   "metadata": {},
   "source": [
    "**Import the CSV Data as Pandas DataFrame**"
   ]
  },
  {
   "cell_type": "code",
   "execution_count": 3,
   "id": "53138f10",
   "metadata": {},
   "outputs": [],
   "source": [
    "df = pd.read_csv('marketing_campaign.csv', sep='\\t')"
   ]
  },
  {
   "cell_type": "markdown",
   "id": "4bca2f5a",
   "metadata": {},
   "source": [
    "**Show Top 5 Records**"
   ]
  },
  {
   "cell_type": "code",
   "execution_count": 4,
   "id": "3f393178",
   "metadata": {},
   "outputs": [
    {
     "data": {
      "text/html": [
       "<div>\n",
       "<style scoped>\n",
       "    .dataframe tbody tr th:only-of-type {\n",
       "        vertical-align: middle;\n",
       "    }\n",
       "\n",
       "    .dataframe tbody tr th {\n",
       "        vertical-align: top;\n",
       "    }\n",
       "\n",
       "    .dataframe thead th {\n",
       "        text-align: right;\n",
       "    }\n",
       "</style>\n",
       "<table border=\"1\" class=\"dataframe\">\n",
       "  <thead>\n",
       "    <tr style=\"text-align: right;\">\n",
       "      <th></th>\n",
       "      <th>ID</th>\n",
       "      <th>Year_Birth</th>\n",
       "      <th>Education</th>\n",
       "      <th>Marital_Status</th>\n",
       "      <th>Income</th>\n",
       "      <th>Kidhome</th>\n",
       "      <th>Teenhome</th>\n",
       "      <th>Dt_Customer</th>\n",
       "      <th>Recency</th>\n",
       "      <th>MntWines</th>\n",
       "      <th>MntFruits</th>\n",
       "      <th>MntMeatProducts</th>\n",
       "      <th>MntFishProducts</th>\n",
       "      <th>MntSweetProducts</th>\n",
       "      <th>MntGoldProds</th>\n",
       "      <th>NumDealsPurchases</th>\n",
       "      <th>NumWebPurchases</th>\n",
       "      <th>NumCatalogPurchases</th>\n",
       "      <th>NumStorePurchases</th>\n",
       "      <th>NumWebVisitsMonth</th>\n",
       "      <th>AcceptedCmp3</th>\n",
       "      <th>AcceptedCmp4</th>\n",
       "      <th>AcceptedCmp5</th>\n",
       "      <th>AcceptedCmp1</th>\n",
       "      <th>AcceptedCmp2</th>\n",
       "      <th>Complain</th>\n",
       "      <th>Z_CostContact</th>\n",
       "      <th>Z_Revenue</th>\n",
       "      <th>Response</th>\n",
       "    </tr>\n",
       "  </thead>\n",
       "  <tbody>\n",
       "    <tr>\n",
       "      <th>0</th>\n",
       "      <td>5524</td>\n",
       "      <td>1957</td>\n",
       "      <td>Graduation</td>\n",
       "      <td>Single</td>\n",
       "      <td>58138.0</td>\n",
       "      <td>0</td>\n",
       "      <td>0</td>\n",
       "      <td>04-09-2012</td>\n",
       "      <td>58</td>\n",
       "      <td>635</td>\n",
       "      <td>88</td>\n",
       "      <td>546</td>\n",
       "      <td>172</td>\n",
       "      <td>88</td>\n",
       "      <td>88</td>\n",
       "      <td>3</td>\n",
       "      <td>8</td>\n",
       "      <td>10</td>\n",
       "      <td>4</td>\n",
       "      <td>7</td>\n",
       "      <td>0</td>\n",
       "      <td>0</td>\n",
       "      <td>0</td>\n",
       "      <td>0</td>\n",
       "      <td>0</td>\n",
       "      <td>0</td>\n",
       "      <td>3</td>\n",
       "      <td>11</td>\n",
       "      <td>1</td>\n",
       "    </tr>\n",
       "    <tr>\n",
       "      <th>1</th>\n",
       "      <td>2174</td>\n",
       "      <td>1954</td>\n",
       "      <td>Graduation</td>\n",
       "      <td>Single</td>\n",
       "      <td>46344.0</td>\n",
       "      <td>1</td>\n",
       "      <td>1</td>\n",
       "      <td>08-03-2014</td>\n",
       "      <td>38</td>\n",
       "      <td>11</td>\n",
       "      <td>1</td>\n",
       "      <td>6</td>\n",
       "      <td>2</td>\n",
       "      <td>1</td>\n",
       "      <td>6</td>\n",
       "      <td>2</td>\n",
       "      <td>1</td>\n",
       "      <td>1</td>\n",
       "      <td>2</td>\n",
       "      <td>5</td>\n",
       "      <td>0</td>\n",
       "      <td>0</td>\n",
       "      <td>0</td>\n",
       "      <td>0</td>\n",
       "      <td>0</td>\n",
       "      <td>0</td>\n",
       "      <td>3</td>\n",
       "      <td>11</td>\n",
       "      <td>0</td>\n",
       "    </tr>\n",
       "    <tr>\n",
       "      <th>2</th>\n",
       "      <td>4141</td>\n",
       "      <td>1965</td>\n",
       "      <td>Graduation</td>\n",
       "      <td>Together</td>\n",
       "      <td>71613.0</td>\n",
       "      <td>0</td>\n",
       "      <td>0</td>\n",
       "      <td>21-08-2013</td>\n",
       "      <td>26</td>\n",
       "      <td>426</td>\n",
       "      <td>49</td>\n",
       "      <td>127</td>\n",
       "      <td>111</td>\n",
       "      <td>21</td>\n",
       "      <td>42</td>\n",
       "      <td>1</td>\n",
       "      <td>8</td>\n",
       "      <td>2</td>\n",
       "      <td>10</td>\n",
       "      <td>4</td>\n",
       "      <td>0</td>\n",
       "      <td>0</td>\n",
       "      <td>0</td>\n",
       "      <td>0</td>\n",
       "      <td>0</td>\n",
       "      <td>0</td>\n",
       "      <td>3</td>\n",
       "      <td>11</td>\n",
       "      <td>0</td>\n",
       "    </tr>\n",
       "    <tr>\n",
       "      <th>3</th>\n",
       "      <td>6182</td>\n",
       "      <td>1984</td>\n",
       "      <td>Graduation</td>\n",
       "      <td>Together</td>\n",
       "      <td>26646.0</td>\n",
       "      <td>1</td>\n",
       "      <td>0</td>\n",
       "      <td>10-02-2014</td>\n",
       "      <td>26</td>\n",
       "      <td>11</td>\n",
       "      <td>4</td>\n",
       "      <td>20</td>\n",
       "      <td>10</td>\n",
       "      <td>3</td>\n",
       "      <td>5</td>\n",
       "      <td>2</td>\n",
       "      <td>2</td>\n",
       "      <td>0</td>\n",
       "      <td>4</td>\n",
       "      <td>6</td>\n",
       "      <td>0</td>\n",
       "      <td>0</td>\n",
       "      <td>0</td>\n",
       "      <td>0</td>\n",
       "      <td>0</td>\n",
       "      <td>0</td>\n",
       "      <td>3</td>\n",
       "      <td>11</td>\n",
       "      <td>0</td>\n",
       "    </tr>\n",
       "    <tr>\n",
       "      <th>4</th>\n",
       "      <td>5324</td>\n",
       "      <td>1981</td>\n",
       "      <td>PhD</td>\n",
       "      <td>Married</td>\n",
       "      <td>58293.0</td>\n",
       "      <td>1</td>\n",
       "      <td>0</td>\n",
       "      <td>19-01-2014</td>\n",
       "      <td>94</td>\n",
       "      <td>173</td>\n",
       "      <td>43</td>\n",
       "      <td>118</td>\n",
       "      <td>46</td>\n",
       "      <td>27</td>\n",
       "      <td>15</td>\n",
       "      <td>5</td>\n",
       "      <td>5</td>\n",
       "      <td>3</td>\n",
       "      <td>6</td>\n",
       "      <td>5</td>\n",
       "      <td>0</td>\n",
       "      <td>0</td>\n",
       "      <td>0</td>\n",
       "      <td>0</td>\n",
       "      <td>0</td>\n",
       "      <td>0</td>\n",
       "      <td>3</td>\n",
       "      <td>11</td>\n",
       "      <td>0</td>\n",
       "    </tr>\n",
       "  </tbody>\n",
       "</table>\n",
       "</div>"
      ],
      "text/plain": [
       "     ID  Year_Birth   Education Marital_Status   Income  Kidhome  Teenhome  \\\n",
       "0  5524        1957  Graduation         Single  58138.0        0         0   \n",
       "1  2174        1954  Graduation         Single  46344.0        1         1   \n",
       "2  4141        1965  Graduation       Together  71613.0        0         0   \n",
       "3  6182        1984  Graduation       Together  26646.0        1         0   \n",
       "4  5324        1981         PhD        Married  58293.0        1         0   \n",
       "\n",
       "  Dt_Customer  Recency  MntWines  MntFruits  MntMeatProducts  MntFishProducts  \\\n",
       "0  04-09-2012       58       635         88              546              172   \n",
       "1  08-03-2014       38        11          1                6                2   \n",
       "2  21-08-2013       26       426         49              127              111   \n",
       "3  10-02-2014       26        11          4               20               10   \n",
       "4  19-01-2014       94       173         43              118               46   \n",
       "\n",
       "   MntSweetProducts  MntGoldProds  NumDealsPurchases  NumWebPurchases  \\\n",
       "0                88            88                  3                8   \n",
       "1                 1             6                  2                1   \n",
       "2                21            42                  1                8   \n",
       "3                 3             5                  2                2   \n",
       "4                27            15                  5                5   \n",
       "\n",
       "   NumCatalogPurchases  NumStorePurchases  NumWebVisitsMonth  AcceptedCmp3  \\\n",
       "0                   10                  4                  7             0   \n",
       "1                    1                  2                  5             0   \n",
       "2                    2                 10                  4             0   \n",
       "3                    0                  4                  6             0   \n",
       "4                    3                  6                  5             0   \n",
       "\n",
       "   AcceptedCmp4  AcceptedCmp5  AcceptedCmp1  AcceptedCmp2  Complain  \\\n",
       "0             0             0             0             0         0   \n",
       "1             0             0             0             0         0   \n",
       "2             0             0             0             0         0   \n",
       "3             0             0             0             0         0   \n",
       "4             0             0             0             0         0   \n",
       "\n",
       "   Z_CostContact  Z_Revenue  Response  \n",
       "0              3         11         1  \n",
       "1              3         11         0  \n",
       "2              3         11         0  \n",
       "3              3         11         0  \n",
       "4              3         11         0  "
      ]
     },
     "execution_count": 4,
     "metadata": {},
     "output_type": "execute_result"
    }
   ],
   "source": [
    "df.head()"
   ]
  },
  {
   "cell_type": "markdown",
   "id": "366a9a27",
   "metadata": {},
   "source": [
    "**Shape of the dataset**"
   ]
  },
  {
   "cell_type": "code",
   "execution_count": 5,
   "id": "cf3c1e60",
   "metadata": {},
   "outputs": [
    {
     "data": {
      "text/plain": [
       "(2240, 29)"
      ]
     },
     "execution_count": 5,
     "metadata": {},
     "output_type": "execute_result"
    }
   ],
   "source": [
    "df.shape"
   ]
  },
  {
   "cell_type": "markdown",
   "id": "de179a2c",
   "metadata": {},
   "source": [
    "**Summary of the dataset**"
   ]
  },
  {
   "cell_type": "code",
   "execution_count": 6,
   "id": "d1b3985f",
   "metadata": {},
   "outputs": [
    {
     "data": {
      "text/html": [
       "<div>\n",
       "<style scoped>\n",
       "    .dataframe tbody tr th:only-of-type {\n",
       "        vertical-align: middle;\n",
       "    }\n",
       "\n",
       "    .dataframe tbody tr th {\n",
       "        vertical-align: top;\n",
       "    }\n",
       "\n",
       "    .dataframe thead th {\n",
       "        text-align: right;\n",
       "    }\n",
       "</style>\n",
       "<table border=\"1\" class=\"dataframe\">\n",
       "  <thead>\n",
       "    <tr style=\"text-align: right;\">\n",
       "      <th></th>\n",
       "      <th>ID</th>\n",
       "      <th>Year_Birth</th>\n",
       "      <th>Income</th>\n",
       "      <th>Kidhome</th>\n",
       "      <th>Teenhome</th>\n",
       "      <th>Recency</th>\n",
       "      <th>MntWines</th>\n",
       "      <th>MntFruits</th>\n",
       "      <th>MntMeatProducts</th>\n",
       "      <th>MntFishProducts</th>\n",
       "      <th>MntSweetProducts</th>\n",
       "      <th>MntGoldProds</th>\n",
       "      <th>NumDealsPurchases</th>\n",
       "      <th>NumWebPurchases</th>\n",
       "      <th>NumCatalogPurchases</th>\n",
       "      <th>NumStorePurchases</th>\n",
       "      <th>NumWebVisitsMonth</th>\n",
       "      <th>AcceptedCmp3</th>\n",
       "      <th>AcceptedCmp4</th>\n",
       "      <th>AcceptedCmp5</th>\n",
       "      <th>AcceptedCmp1</th>\n",
       "      <th>AcceptedCmp2</th>\n",
       "      <th>Complain</th>\n",
       "      <th>Z_CostContact</th>\n",
       "      <th>Z_Revenue</th>\n",
       "      <th>Response</th>\n",
       "    </tr>\n",
       "  </thead>\n",
       "  <tbody>\n",
       "    <tr>\n",
       "      <th>count</th>\n",
       "      <td>2240.000000</td>\n",
       "      <td>2240.000000</td>\n",
       "      <td>2216.000000</td>\n",
       "      <td>2240.000000</td>\n",
       "      <td>2240.000000</td>\n",
       "      <td>2240.000000</td>\n",
       "      <td>2240.000000</td>\n",
       "      <td>2240.000000</td>\n",
       "      <td>2240.000000</td>\n",
       "      <td>2240.000000</td>\n",
       "      <td>2240.000000</td>\n",
       "      <td>2240.000000</td>\n",
       "      <td>2240.000000</td>\n",
       "      <td>2240.000000</td>\n",
       "      <td>2240.000000</td>\n",
       "      <td>2240.000000</td>\n",
       "      <td>2240.000000</td>\n",
       "      <td>2240.000000</td>\n",
       "      <td>2240.000000</td>\n",
       "      <td>2240.000000</td>\n",
       "      <td>2240.000000</td>\n",
       "      <td>2240.000000</td>\n",
       "      <td>2240.000000</td>\n",
       "      <td>2240.0</td>\n",
       "      <td>2240.0</td>\n",
       "      <td>2240.000000</td>\n",
       "    </tr>\n",
       "    <tr>\n",
       "      <th>mean</th>\n",
       "      <td>5592.159821</td>\n",
       "      <td>1968.805804</td>\n",
       "      <td>52247.251354</td>\n",
       "      <td>0.444196</td>\n",
       "      <td>0.506250</td>\n",
       "      <td>49.109375</td>\n",
       "      <td>303.935714</td>\n",
       "      <td>26.302232</td>\n",
       "      <td>166.950000</td>\n",
       "      <td>37.525446</td>\n",
       "      <td>27.062946</td>\n",
       "      <td>44.021875</td>\n",
       "      <td>2.325000</td>\n",
       "      <td>4.084821</td>\n",
       "      <td>2.662054</td>\n",
       "      <td>5.790179</td>\n",
       "      <td>5.316518</td>\n",
       "      <td>0.072768</td>\n",
       "      <td>0.074554</td>\n",
       "      <td>0.072768</td>\n",
       "      <td>0.064286</td>\n",
       "      <td>0.013393</td>\n",
       "      <td>0.009375</td>\n",
       "      <td>3.0</td>\n",
       "      <td>11.0</td>\n",
       "      <td>0.149107</td>\n",
       "    </tr>\n",
       "    <tr>\n",
       "      <th>std</th>\n",
       "      <td>3246.662198</td>\n",
       "      <td>11.984069</td>\n",
       "      <td>25173.076661</td>\n",
       "      <td>0.538398</td>\n",
       "      <td>0.544538</td>\n",
       "      <td>28.962453</td>\n",
       "      <td>336.597393</td>\n",
       "      <td>39.773434</td>\n",
       "      <td>225.715373</td>\n",
       "      <td>54.628979</td>\n",
       "      <td>41.280498</td>\n",
       "      <td>52.167439</td>\n",
       "      <td>1.932238</td>\n",
       "      <td>2.778714</td>\n",
       "      <td>2.923101</td>\n",
       "      <td>3.250958</td>\n",
       "      <td>2.426645</td>\n",
       "      <td>0.259813</td>\n",
       "      <td>0.262728</td>\n",
       "      <td>0.259813</td>\n",
       "      <td>0.245316</td>\n",
       "      <td>0.114976</td>\n",
       "      <td>0.096391</td>\n",
       "      <td>0.0</td>\n",
       "      <td>0.0</td>\n",
       "      <td>0.356274</td>\n",
       "    </tr>\n",
       "    <tr>\n",
       "      <th>min</th>\n",
       "      <td>0.000000</td>\n",
       "      <td>1893.000000</td>\n",
       "      <td>1730.000000</td>\n",
       "      <td>0.000000</td>\n",
       "      <td>0.000000</td>\n",
       "      <td>0.000000</td>\n",
       "      <td>0.000000</td>\n",
       "      <td>0.000000</td>\n",
       "      <td>0.000000</td>\n",
       "      <td>0.000000</td>\n",
       "      <td>0.000000</td>\n",
       "      <td>0.000000</td>\n",
       "      <td>0.000000</td>\n",
       "      <td>0.000000</td>\n",
       "      <td>0.000000</td>\n",
       "      <td>0.000000</td>\n",
       "      <td>0.000000</td>\n",
       "      <td>0.000000</td>\n",
       "      <td>0.000000</td>\n",
       "      <td>0.000000</td>\n",
       "      <td>0.000000</td>\n",
       "      <td>0.000000</td>\n",
       "      <td>0.000000</td>\n",
       "      <td>3.0</td>\n",
       "      <td>11.0</td>\n",
       "      <td>0.000000</td>\n",
       "    </tr>\n",
       "    <tr>\n",
       "      <th>25%</th>\n",
       "      <td>2828.250000</td>\n",
       "      <td>1959.000000</td>\n",
       "      <td>35303.000000</td>\n",
       "      <td>0.000000</td>\n",
       "      <td>0.000000</td>\n",
       "      <td>24.000000</td>\n",
       "      <td>23.750000</td>\n",
       "      <td>1.000000</td>\n",
       "      <td>16.000000</td>\n",
       "      <td>3.000000</td>\n",
       "      <td>1.000000</td>\n",
       "      <td>9.000000</td>\n",
       "      <td>1.000000</td>\n",
       "      <td>2.000000</td>\n",
       "      <td>0.000000</td>\n",
       "      <td>3.000000</td>\n",
       "      <td>3.000000</td>\n",
       "      <td>0.000000</td>\n",
       "      <td>0.000000</td>\n",
       "      <td>0.000000</td>\n",
       "      <td>0.000000</td>\n",
       "      <td>0.000000</td>\n",
       "      <td>0.000000</td>\n",
       "      <td>3.0</td>\n",
       "      <td>11.0</td>\n",
       "      <td>0.000000</td>\n",
       "    </tr>\n",
       "    <tr>\n",
       "      <th>50%</th>\n",
       "      <td>5458.500000</td>\n",
       "      <td>1970.000000</td>\n",
       "      <td>51381.500000</td>\n",
       "      <td>0.000000</td>\n",
       "      <td>0.000000</td>\n",
       "      <td>49.000000</td>\n",
       "      <td>173.500000</td>\n",
       "      <td>8.000000</td>\n",
       "      <td>67.000000</td>\n",
       "      <td>12.000000</td>\n",
       "      <td>8.000000</td>\n",
       "      <td>24.000000</td>\n",
       "      <td>2.000000</td>\n",
       "      <td>4.000000</td>\n",
       "      <td>2.000000</td>\n",
       "      <td>5.000000</td>\n",
       "      <td>6.000000</td>\n",
       "      <td>0.000000</td>\n",
       "      <td>0.000000</td>\n",
       "      <td>0.000000</td>\n",
       "      <td>0.000000</td>\n",
       "      <td>0.000000</td>\n",
       "      <td>0.000000</td>\n",
       "      <td>3.0</td>\n",
       "      <td>11.0</td>\n",
       "      <td>0.000000</td>\n",
       "    </tr>\n",
       "    <tr>\n",
       "      <th>75%</th>\n",
       "      <td>8427.750000</td>\n",
       "      <td>1977.000000</td>\n",
       "      <td>68522.000000</td>\n",
       "      <td>1.000000</td>\n",
       "      <td>1.000000</td>\n",
       "      <td>74.000000</td>\n",
       "      <td>504.250000</td>\n",
       "      <td>33.000000</td>\n",
       "      <td>232.000000</td>\n",
       "      <td>50.000000</td>\n",
       "      <td>33.000000</td>\n",
       "      <td>56.000000</td>\n",
       "      <td>3.000000</td>\n",
       "      <td>6.000000</td>\n",
       "      <td>4.000000</td>\n",
       "      <td>8.000000</td>\n",
       "      <td>7.000000</td>\n",
       "      <td>0.000000</td>\n",
       "      <td>0.000000</td>\n",
       "      <td>0.000000</td>\n",
       "      <td>0.000000</td>\n",
       "      <td>0.000000</td>\n",
       "      <td>0.000000</td>\n",
       "      <td>3.0</td>\n",
       "      <td>11.0</td>\n",
       "      <td>0.000000</td>\n",
       "    </tr>\n",
       "    <tr>\n",
       "      <th>max</th>\n",
       "      <td>11191.000000</td>\n",
       "      <td>1996.000000</td>\n",
       "      <td>666666.000000</td>\n",
       "      <td>2.000000</td>\n",
       "      <td>2.000000</td>\n",
       "      <td>99.000000</td>\n",
       "      <td>1493.000000</td>\n",
       "      <td>199.000000</td>\n",
       "      <td>1725.000000</td>\n",
       "      <td>259.000000</td>\n",
       "      <td>263.000000</td>\n",
       "      <td>362.000000</td>\n",
       "      <td>15.000000</td>\n",
       "      <td>27.000000</td>\n",
       "      <td>28.000000</td>\n",
       "      <td>13.000000</td>\n",
       "      <td>20.000000</td>\n",
       "      <td>1.000000</td>\n",
       "      <td>1.000000</td>\n",
       "      <td>1.000000</td>\n",
       "      <td>1.000000</td>\n",
       "      <td>1.000000</td>\n",
       "      <td>1.000000</td>\n",
       "      <td>3.0</td>\n",
       "      <td>11.0</td>\n",
       "      <td>1.000000</td>\n",
       "    </tr>\n",
       "  </tbody>\n",
       "</table>\n",
       "</div>"
      ],
      "text/plain": [
       "                 ID   Year_Birth         Income      Kidhome     Teenhome  \\\n",
       "count   2240.000000  2240.000000    2216.000000  2240.000000  2240.000000   \n",
       "mean    5592.159821  1968.805804   52247.251354     0.444196     0.506250   \n",
       "std     3246.662198    11.984069   25173.076661     0.538398     0.544538   \n",
       "min        0.000000  1893.000000    1730.000000     0.000000     0.000000   \n",
       "25%     2828.250000  1959.000000   35303.000000     0.000000     0.000000   \n",
       "50%     5458.500000  1970.000000   51381.500000     0.000000     0.000000   \n",
       "75%     8427.750000  1977.000000   68522.000000     1.000000     1.000000   \n",
       "max    11191.000000  1996.000000  666666.000000     2.000000     2.000000   \n",
       "\n",
       "           Recency     MntWines    MntFruits  MntMeatProducts  \\\n",
       "count  2240.000000  2240.000000  2240.000000      2240.000000   \n",
       "mean     49.109375   303.935714    26.302232       166.950000   \n",
       "std      28.962453   336.597393    39.773434       225.715373   \n",
       "min       0.000000     0.000000     0.000000         0.000000   \n",
       "25%      24.000000    23.750000     1.000000        16.000000   \n",
       "50%      49.000000   173.500000     8.000000        67.000000   \n",
       "75%      74.000000   504.250000    33.000000       232.000000   \n",
       "max      99.000000  1493.000000   199.000000      1725.000000   \n",
       "\n",
       "       MntFishProducts  MntSweetProducts  MntGoldProds  NumDealsPurchases  \\\n",
       "count      2240.000000       2240.000000   2240.000000        2240.000000   \n",
       "mean         37.525446         27.062946     44.021875           2.325000   \n",
       "std          54.628979         41.280498     52.167439           1.932238   \n",
       "min           0.000000          0.000000      0.000000           0.000000   \n",
       "25%           3.000000          1.000000      9.000000           1.000000   \n",
       "50%          12.000000          8.000000     24.000000           2.000000   \n",
       "75%          50.000000         33.000000     56.000000           3.000000   \n",
       "max         259.000000        263.000000    362.000000          15.000000   \n",
       "\n",
       "       NumWebPurchases  NumCatalogPurchases  NumStorePurchases  \\\n",
       "count      2240.000000          2240.000000        2240.000000   \n",
       "mean          4.084821             2.662054           5.790179   \n",
       "std           2.778714             2.923101           3.250958   \n",
       "min           0.000000             0.000000           0.000000   \n",
       "25%           2.000000             0.000000           3.000000   \n",
       "50%           4.000000             2.000000           5.000000   \n",
       "75%           6.000000             4.000000           8.000000   \n",
       "max          27.000000            28.000000          13.000000   \n",
       "\n",
       "       NumWebVisitsMonth  AcceptedCmp3  AcceptedCmp4  AcceptedCmp5  \\\n",
       "count        2240.000000   2240.000000   2240.000000   2240.000000   \n",
       "mean            5.316518      0.072768      0.074554      0.072768   \n",
       "std             2.426645      0.259813      0.262728      0.259813   \n",
       "min             0.000000      0.000000      0.000000      0.000000   \n",
       "25%             3.000000      0.000000      0.000000      0.000000   \n",
       "50%             6.000000      0.000000      0.000000      0.000000   \n",
       "75%             7.000000      0.000000      0.000000      0.000000   \n",
       "max            20.000000      1.000000      1.000000      1.000000   \n",
       "\n",
       "       AcceptedCmp1  AcceptedCmp2     Complain  Z_CostContact  Z_Revenue  \\\n",
       "count   2240.000000   2240.000000  2240.000000         2240.0     2240.0   \n",
       "mean       0.064286      0.013393     0.009375            3.0       11.0   \n",
       "std        0.245316      0.114976     0.096391            0.0        0.0   \n",
       "min        0.000000      0.000000     0.000000            3.0       11.0   \n",
       "25%        0.000000      0.000000     0.000000            3.0       11.0   \n",
       "50%        0.000000      0.000000     0.000000            3.0       11.0   \n",
       "75%        0.000000      0.000000     0.000000            3.0       11.0   \n",
       "max        1.000000      1.000000     1.000000            3.0       11.0   \n",
       "\n",
       "          Response  \n",
       "count  2240.000000  \n",
       "mean      0.149107  \n",
       "std       0.356274  \n",
       "min       0.000000  \n",
       "25%       0.000000  \n",
       "50%       0.000000  \n",
       "75%       0.000000  \n",
       "max       1.000000  "
      ]
     },
     "execution_count": 6,
     "metadata": {},
     "output_type": "execute_result"
    }
   ],
   "source": [
    "# Display summary statistics for a dataframe\n",
    "df.describe()"
   ]
  },
  {
   "cell_type": "markdown",
   "id": "ebd33cec",
   "metadata": {},
   "source": [
    "**Check Datatypes in the dataset**"
   ]
  },
  {
   "cell_type": "code",
   "execution_count": 7,
   "id": "e0c346e6",
   "metadata": {
    "scrolled": false
   },
   "outputs": [
    {
     "name": "stdout",
     "output_type": "stream",
     "text": [
      "<class 'pandas.core.frame.DataFrame'>\n",
      "RangeIndex: 2240 entries, 0 to 2239\n",
      "Data columns (total 29 columns):\n",
      " #   Column               Non-Null Count  Dtype  \n",
      "---  ------               --------------  -----  \n",
      " 0   ID                   2240 non-null   int64  \n",
      " 1   Year_Birth           2240 non-null   int64  \n",
      " 2   Education            2240 non-null   object \n",
      " 3   Marital_Status       2240 non-null   object \n",
      " 4   Income               2216 non-null   float64\n",
      " 5   Kidhome              2240 non-null   int64  \n",
      " 6   Teenhome             2240 non-null   int64  \n",
      " 7   Dt_Customer          2240 non-null   object \n",
      " 8   Recency              2240 non-null   int64  \n",
      " 9   MntWines             2240 non-null   int64  \n",
      " 10  MntFruits            2240 non-null   int64  \n",
      " 11  MntMeatProducts      2240 non-null   int64  \n",
      " 12  MntFishProducts      2240 non-null   int64  \n",
      " 13  MntSweetProducts     2240 non-null   int64  \n",
      " 14  MntGoldProds         2240 non-null   int64  \n",
      " 15  NumDealsPurchases    2240 non-null   int64  \n",
      " 16  NumWebPurchases      2240 non-null   int64  \n",
      " 17  NumCatalogPurchases  2240 non-null   int64  \n",
      " 18  NumStorePurchases    2240 non-null   int64  \n",
      " 19  NumWebVisitsMonth    2240 non-null   int64  \n",
      " 20  AcceptedCmp3         2240 non-null   int64  \n",
      " 21  AcceptedCmp4         2240 non-null   int64  \n",
      " 22  AcceptedCmp5         2240 non-null   int64  \n",
      " 23  AcceptedCmp1         2240 non-null   int64  \n",
      " 24  AcceptedCmp2         2240 non-null   int64  \n",
      " 25  Complain             2240 non-null   int64  \n",
      " 26  Z_CostContact        2240 non-null   int64  \n",
      " 27  Z_Revenue            2240 non-null   int64  \n",
      " 28  Response             2240 non-null   int64  \n",
      "dtypes: float64(1), int64(25), object(3)\n",
      "memory usage: 507.6+ KB\n"
     ]
    }
   ],
   "source": [
    "# Check Null and Dtypes\n",
    "df.info()"
   ]
  },
  {
   "cell_type": "markdown",
   "id": "a5ee9991",
   "metadata": {},
   "source": [
    "## 3. EXPLORING DATA"
   ]
  },
  {
   "cell_type": "markdown",
   "id": "dddf862e",
   "metadata": {},
   "source": [
    "**Let's convert the datetime column to pandas datetime format**"
   ]
  },
  {
   "cell_type": "code",
   "execution_count": 8,
   "id": "a4547efc",
   "metadata": {},
   "outputs": [],
   "source": [
    "df['Dt_Customer'] = pd.to_datetime(df['Dt_Customer'], format='%d-%m-%Y')"
   ]
  },
  {
   "cell_type": "code",
   "execution_count": 9,
   "id": "f77bdd3f",
   "metadata": {},
   "outputs": [
    {
     "data": {
      "text/plain": [
       "0      2012-09-04\n",
       "1      2014-03-08\n",
       "2      2013-08-21\n",
       "3      2014-02-10\n",
       "4      2014-01-19\n",
       "          ...    \n",
       "2235   2013-06-13\n",
       "2236   2014-06-10\n",
       "2237   2014-01-25\n",
       "2238   2014-01-24\n",
       "2239   2012-10-15\n",
       "Name: Dt_Customer, Length: 2240, dtype: datetime64[ns]"
      ]
     },
     "execution_count": 9,
     "metadata": {},
     "output_type": "execute_result"
    }
   ],
   "source": [
    "#let's check the datatype\n",
    "df['Dt_Customer']"
   ]
  },
  {
   "cell_type": "code",
   "execution_count": 10,
   "id": "69f4ca25",
   "metadata": {},
   "outputs": [
    {
     "name": "stdout",
     "output_type": "stream",
     "text": [
      "We have 27 numerical features : ['ID', 'Year_Birth', 'Income', 'Kidhome', 'Teenhome', 'Dt_Customer', 'Recency', 'MntWines', 'MntFruits', 'MntMeatProducts', 'MntFishProducts', 'MntSweetProducts', 'MntGoldProds', 'NumDealsPurchases', 'NumWebPurchases', 'NumCatalogPurchases', 'NumStorePurchases', 'NumWebVisitsMonth', 'AcceptedCmp3', 'AcceptedCmp4', 'AcceptedCmp5', 'AcceptedCmp1', 'AcceptedCmp2', 'Complain', 'Z_CostContact', 'Z_Revenue', 'Response']\n",
      "\n",
      "We have 2 categorical features : ['Education', 'Marital_Status']\n"
     ]
    }
   ],
   "source": [
    "# define numerical & categorical columns\n",
    "numeric_features = [feature for feature in df.columns if df[feature].dtype != 'O']\n",
    "categorical_features = [feature for feature in df.columns if df[feature].dtype == 'O']\n",
    "\n",
    "# print columns\n",
    "print('We have {} numerical features : {}'.format(len(numeric_features), numeric_features))\n",
    "print('\\nWe have {} categorical features : {}'.format(len(categorical_features), categorical_features))"
   ]
  },
  {
   "cell_type": "markdown",
   "id": "5653476a",
   "metadata": {},
   "source": [
    "### Feature Information\n",
    "\n",
    "- **People**\n",
    "\n",
    "    - **ID:** Customer's unique identifier\n",
    "    - **Year_Birth:** Customer's birth year\n",
    "    - **Education:** Customer's education level\n",
    "    - **Marital_Status:** Customer's marital status\n",
    "    - **Income:** Customer's yearly household income\n",
    "    - **Kidhome:** Number of children in customer's household\n",
    "    - **Teenhome:** Number of teenagers in customer's household\n",
    "    - **Dt_Customer:** Date of customer's enrollment with the company\n",
    "    - **Recency:** Number of days since customer's last purchase\n",
    "    - **Complain:** 1 if the customer complained in the last 2 years, 0 otherwise\n",
    "\n",
    "- **Products**\n",
    "\n",
    "    - **MntWines:** Amount spent on wine in last 2 years\n",
    "    - **MntFruits:** Amount spent on fruits in last 2 years\n",
    "    - **MntMeatProducts:** Amount spent on meat in last 2 years\n",
    "    - **MntFishProducts:** Amount spent on fish in last 2 years\n",
    "    - **MntSweetProducts:** Amount spent on sweets in last 2 years\n",
    "    - **MntGoldProds:** Amount spent on gold in last 2 years\n",
    "\n",
    "- **Promotion**\n",
    "\n",
    "    - **NumDealsPurchases:** Number of purchases made with a discount\n",
    "    - **AcceptedCmp1:** 1 if customer accepted the offer in the 1st campaign, 0 otherwise\n",
    "    - **AcceptedCmp2:** 1 if customer accepted the offer in the 2nd campaign, 0 otherwise\n",
    "    - **AcceptedCmp3:** 1 if customer accepted the offer in the 3rd campaign, 0 otherwise\n",
    "    - **AcceptedCmp4:** 1 if customer accepted the offer in the 4th campaign, 0 otherwise\n",
    "    - **AcceptedCmp5:** 1 if customer accepted the offer in the 5th campaign, 0 otherwise\n",
    "    - **Response:** 1 if customer accepted the offer in the last campaign, 0 otherwise\n",
    "\n",
    "- **Place**\n",
    "\n",
    "    - **NumWebPurchases:** Number of purchases made through the company’s website\n",
    "    - **NumCatalogPurchases:** Number of purchases made using a catalogue\n",
    "    - **NumStorePurchases:** Number of purchases made directly in stores\n",
    "    - **NumWebVisitsMonth:** Number of visits to company’s website in the last month"
   ]
  },
  {
   "cell_type": "code",
   "execution_count": 11,
   "id": "56123439",
   "metadata": {},
   "outputs": [
    {
     "data": {
      "text/plain": [
       "5"
      ]
     },
     "execution_count": 11,
     "metadata": {},
     "output_type": "execute_result"
    }
   ],
   "source": [
    "df[categorical_features[0]].value_counts().count()"
   ]
  },
  {
   "cell_type": "code",
   "execution_count": 12,
   "id": "6bf5721e",
   "metadata": {},
   "outputs": [
    {
     "name": "stdout",
     "output_type": "stream",
     "text": [
      "Graduation    50.312500\n",
      "PhD           21.696429\n",
      "Master        16.517857\n",
      "2n Cycle       9.062500\n",
      "Basic          2.410714\n",
      "Name: Education, dtype: float64\n",
      "---------------------------\n",
      "Married     38.571429\n",
      "Together    25.892857\n",
      "Single      21.428571\n",
      "Divorced    10.357143\n",
      "Widow        3.437500\n",
      "Alone        0.133929\n",
      "Absurd       0.089286\n",
      "YOLO         0.089286\n",
      "Name: Marital_Status, dtype: float64\n",
      "---------------------------\n"
     ]
    }
   ],
   "source": [
    "# proportion of count data on categorical columns\n",
    "for col in categorical_features:\n",
    "    print(df[col].value_counts(normalize=True) * 100)\n",
    "    print('---------------------------')"
   ]
  },
  {
   "cell_type": "markdown",
   "id": "aafcd724",
   "metadata": {},
   "source": [
    "## Univariate Analysis"
   ]
  },
  {
   "cell_type": "markdown",
   "id": "6840a61e",
   "metadata": {},
   "source": [
    "* The term univariate analysis refers to the analysis of one variable prefix “uni” means “one.” The purpose of univariate analysis is to understand the distribution of values for a single variable.\n",
    "\n",
    "Other Type of Analysis are\n",
    "* **Bivariate Analysis:** The analysis of two variables.\n",
    "* **Multivariate Analysis:** The analysis of two or more variables."
   ]
  },
  {
   "cell_type": "markdown",
   "id": "c2c790ef",
   "metadata": {},
   "source": [
    "### Numerical Features"
   ]
  },
  {
   "cell_type": "code",
   "execution_count": 13,
   "id": "ada0bc20",
   "metadata": {},
   "outputs": [
    {
     "data": {
      "text/plain": [
       "27"
      ]
     },
     "execution_count": 13,
     "metadata": {},
     "output_type": "execute_result"
    }
   ],
   "source": [
    "len(numeric_features)"
   ]
  },
  {
   "cell_type": "code",
   "execution_count": 14,
   "id": "0f742ba6",
   "metadata": {
    "scrolled": false
   },
   "outputs": [
    {
     "data": {
      "image/png": "[encoded data removed]",
      "text/plain": [
       "<Figure size 1500x1000 with 27 Axes>"
      ]
     },
     "metadata": {},
     "output_type": "display_data"
    }
   ],
   "source": [
    "plt.figure(figsize=(15, 10))\n",
    "plt.suptitle('Univariate Analysis of Numerical Features', fontsize=20, fontweight='bold', alpha=0.8, y=1.)\n",
    "\n",
    "for i in range(0, len(numeric_features)):\n",
    "    plt.subplot(7, 4, i+1)\n",
    "    sns.kdeplot(x=df[numeric_features[i]], color='blue')\n",
    "    plt.xlabel(numeric_features[i])\n",
    "    plt.tight_layout()\n",
    "    \n",
    "# save plot\n",
    "# plt.savefig('./images/Univariate_Num.png')"
   ]
  },
  {
   "cell_type": "markdown",
   "id": "d6c6262f",
   "metadata": {},
   "source": [
    "### Categorical Features"
   ]
  },
  {
   "cell_type": "code",
   "execution_count": null,
   "id": "1048d380",
   "metadata": {},
   "outputs": [],
   "source": []
  },
  {
   "cell_type": "code",
   "execution_count": 15,
   "id": "203819d7",
   "metadata": {},
   "outputs": [
    {
     "data": {
      "image/png": "[encoded data removed]",
      "text/plain": [
       "<Figure size 1500x800 with 2 Axes>"
      ]
     },
     "metadata": {},
     "output_type": "display_data"
    }
   ],
   "source": [
    "# categorical columns\n",
    "plt.figure(figsize=(15, 8))\n",
    "plt.suptitle('Univariate Analysis of Categorical Features', fontsize=20, fontweight='bold', alpha=0.8, y=1.)\n",
    "\n",
    "for i in range(0, len(categorical_features)):\n",
    "    plt.subplot(2, 2, i+1)\n",
    "    ax = sns.countplot(x=df[categorical_features[i]])\n",
    "    if df[categorical_features[i]].value_counts().count() <10:\n",
    "        for p in ax.patches:\n",
    "            ax.annotate('{:.1f}'.format(p.get_height()), (p.get_x()+0.25, p.get_height()+0.01))\n",
    "    plt.xlabel(categorical_features[i])\n",
    "    plt.tight_layout()\n",
    "    \n",
    "# save plot\n",
    "# plt.savefig('./images/Univariate_Cat.png')"
   ]
  },
  {
   "cell_type": "markdown",
   "id": "571536db",
   "metadata": {},
   "source": [
    "**Report**\n",
    "- For column **``Education``**\n",
    "    - Most of the Customers are falling into **Graduation** category.\n",
    "    - Respectively, **PhD, Master Education, Basic and *2n Cycle** are also present.\n",
    "    \n",
    "    _2nCycle_ -  Multidisciplinary degree programmes are second cycle degree programmes in which the teaching system meets the requirements of two different classes\n",
    "    \n",
    "- For column **```Maritial_Status```**\n",
    "    - For about **864** customers are married. \n",
    "    - **Together, single, divorced, widow** are noticeable where **Alone, Absurd and YOLO** categories are very less."
   ]
  },
  {
   "cell_type": "markdown",
   "id": "f802659d",
   "metadata": {},
   "source": [
    "### Count of features based on years"
   ]
  },
  {
   "cell_type": "code",
   "execution_count": 30,
   "id": "0a2d7ea1",
   "metadata": {},
   "outputs": [
    {
     "data": {
      "text/html": [
       "<div>\n",
       "<style scoped>\n",
       "    .dataframe tbody tr th:only-of-type {\n",
       "        vertical-align: middle;\n",
       "    }\n",
       "\n",
       "    .dataframe tbody tr th {\n",
       "        vertical-align: top;\n",
       "    }\n",
       "\n",
       "    .dataframe thead th {\n",
       "        text-align: right;\n",
       "    }\n",
       "</style>\n",
       "<table border=\"1\" class=\"dataframe\">\n",
       "  <thead>\n",
       "    <tr style=\"text-align: right;\">\n",
       "      <th></th>\n",
       "      <th>ID</th>\n",
       "      <th>Year_Birth</th>\n",
       "      <th>Education</th>\n",
       "      <th>Marital_Status</th>\n",
       "      <th>Income</th>\n",
       "      <th>Kidhome</th>\n",
       "      <th>Teenhome</th>\n",
       "      <th>Dt_Customer</th>\n",
       "      <th>Recency</th>\n",
       "      <th>MntWines</th>\n",
       "      <th>MntFruits</th>\n",
       "      <th>MntMeatProducts</th>\n",
       "      <th>MntFishProducts</th>\n",
       "      <th>MntSweetProducts</th>\n",
       "      <th>MntGoldProds</th>\n",
       "      <th>NumDealsPurchases</th>\n",
       "      <th>NumWebPurchases</th>\n",
       "      <th>NumCatalogPurchases</th>\n",
       "      <th>NumStorePurchases</th>\n",
       "      <th>NumWebVisitsMonth</th>\n",
       "      <th>AcceptedCmp3</th>\n",
       "      <th>AcceptedCmp4</th>\n",
       "      <th>AcceptedCmp5</th>\n",
       "      <th>AcceptedCmp1</th>\n",
       "      <th>AcceptedCmp2</th>\n",
       "      <th>Complain</th>\n",
       "      <th>Z_CostContact</th>\n",
       "      <th>Z_Revenue</th>\n",
       "      <th>Response</th>\n",
       "    </tr>\n",
       "    <tr>\n",
       "      <th>Year</th>\n",
       "      <th></th>\n",
       "      <th></th>\n",
       "      <th></th>\n",
       "      <th></th>\n",
       "      <th></th>\n",
       "      <th></th>\n",
       "      <th></th>\n",
       "      <th></th>\n",
       "      <th></th>\n",
       "      <th></th>\n",
       "      <th></th>\n",
       "      <th></th>\n",
       "      <th></th>\n",
       "      <th></th>\n",
       "      <th></th>\n",
       "      <th></th>\n",
       "      <th></th>\n",
       "      <th></th>\n",
       "      <th></th>\n",
       "      <th></th>\n",
       "      <th></th>\n",
       "      <th></th>\n",
       "      <th></th>\n",
       "      <th></th>\n",
       "      <th></th>\n",
       "      <th></th>\n",
       "      <th></th>\n",
       "      <th></th>\n",
       "      <th></th>\n",
       "    </tr>\n",
       "  </thead>\n",
       "  <tbody>\n",
       "    <tr>\n",
       "      <th>2012</th>\n",
       "      <td>494</td>\n",
       "      <td>494</td>\n",
       "      <td>494</td>\n",
       "      <td>494</td>\n",
       "      <td>490</td>\n",
       "      <td>494</td>\n",
       "      <td>494</td>\n",
       "      <td>494</td>\n",
       "      <td>494</td>\n",
       "      <td>494</td>\n",
       "      <td>494</td>\n",
       "      <td>494</td>\n",
       "      <td>494</td>\n",
       "      <td>494</td>\n",
       "      <td>494</td>\n",
       "      <td>494</td>\n",
       "      <td>494</td>\n",
       "      <td>494</td>\n",
       "      <td>494</td>\n",
       "      <td>494</td>\n",
       "      <td>494</td>\n",
       "      <td>494</td>\n",
       "      <td>494</td>\n",
       "      <td>494</td>\n",
       "      <td>494</td>\n",
       "      <td>494</td>\n",
       "      <td>494</td>\n",
       "      <td>494</td>\n",
       "      <td>494</td>\n",
       "    </tr>\n",
       "    <tr>\n",
       "      <th>2013</th>\n",
       "      <td>1189</td>\n",
       "      <td>1189</td>\n",
       "      <td>1189</td>\n",
       "      <td>1189</td>\n",
       "      <td>1173</td>\n",
       "      <td>1189</td>\n",
       "      <td>1189</td>\n",
       "      <td>1189</td>\n",
       "      <td>1189</td>\n",
       "      <td>1189</td>\n",
       "      <td>1189</td>\n",
       "      <td>1189</td>\n",
       "      <td>1189</td>\n",
       "      <td>1189</td>\n",
       "      <td>1189</td>\n",
       "      <td>1189</td>\n",
       "      <td>1189</td>\n",
       "      <td>1189</td>\n",
       "      <td>1189</td>\n",
       "      <td>1189</td>\n",
       "      <td>1189</td>\n",
       "      <td>1189</td>\n",
       "      <td>1189</td>\n",
       "      <td>1189</td>\n",
       "      <td>1189</td>\n",
       "      <td>1189</td>\n",
       "      <td>1189</td>\n",
       "      <td>1189</td>\n",
       "      <td>1189</td>\n",
       "    </tr>\n",
       "    <tr>\n",
       "      <th>2014</th>\n",
       "      <td>557</td>\n",
       "      <td>557</td>\n",
       "      <td>557</td>\n",
       "      <td>557</td>\n",
       "      <td>553</td>\n",
       "      <td>557</td>\n",
       "      <td>557</td>\n",
       "      <td>557</td>\n",
       "      <td>557</td>\n",
       "      <td>557</td>\n",
       "      <td>557</td>\n",
       "      <td>557</td>\n",
       "      <td>557</td>\n",
       "      <td>557</td>\n",
       "      <td>557</td>\n",
       "      <td>557</td>\n",
       "      <td>557</td>\n",
       "      <td>557</td>\n",
       "      <td>557</td>\n",
       "      <td>557</td>\n",
       "      <td>557</td>\n",
       "      <td>557</td>\n",
       "      <td>557</td>\n",
       "      <td>557</td>\n",
       "      <td>557</td>\n",
       "      <td>557</td>\n",
       "      <td>557</td>\n",
       "      <td>557</td>\n",
       "      <td>557</td>\n",
       "    </tr>\n",
       "  </tbody>\n",
       "</table>\n",
       "</div>"
      ],
      "text/plain": [
       "        ID  Year_Birth  Education  Marital_Status  Income  Kidhome  Teenhome  \\\n",
       "Year                                                                           \n",
       "2012   494         494        494             494     490      494       494   \n",
       "2013  1189        1189       1189            1189    1173     1189      1189   \n",
       "2014   557         557        557             557     553      557       557   \n",
       "\n",
       "      Dt_Customer  Recency  MntWines  MntFruits  MntMeatProducts  \\\n",
       "Year                                                               \n",
       "2012          494      494       494        494              494   \n",
       "2013         1189     1189      1189       1189             1189   \n",
       "2014          557      557       557        557              557   \n",
       "\n",
       "      MntFishProducts  MntSweetProducts  MntGoldProds  NumDealsPurchases  \\\n",
       "Year                                                                       \n",
       "2012              494               494           494                494   \n",
       "2013             1189              1189          1189               1189   \n",
       "2014              557               557           557                557   \n",
       "\n",
       "      NumWebPurchases  NumCatalogPurchases  NumStorePurchases  \\\n",
       "Year                                                            \n",
       "2012              494                  494                494   \n",
       "2013             1189                 1189               1189   \n",
       "2014              557                  557                557   \n",
       "\n",
       "      NumWebVisitsMonth  AcceptedCmp3  AcceptedCmp4  AcceptedCmp5  \\\n",
       "Year                                                                \n",
       "2012                494           494           494           494   \n",
       "2013               1189          1189          1189          1189   \n",
       "2014                557           557           557           557   \n",
       "\n",
       "      AcceptedCmp1  AcceptedCmp2  Complain  Z_CostContact  Z_Revenue  Response  \n",
       "Year                                                                            \n",
       "2012           494           494       494            494        494       494  \n",
       "2013          1189          1189      1189           1189       1189      1189  \n",
       "2014           557           557       557            557        557       557  "
      ]
     },
     "execution_count": 30,
     "metadata": {},
     "output_type": "execute_result"
    }
   ],
   "source": [
    "df1 = df.copy()\n",
    "df1[\"Year\"] = df1.Dt_Customer.dt.year\n",
    "df1.groupby(by=\"Year\", axis=0).count()"
   ]
  },
  {
   "cell_type": "code",
   "execution_count": 29,
   "id": "f039e5df",
   "metadata": {},
   "outputs": [
    {
     "data": {
      "text/html": [
       "<div>\n",
       "<style scoped>\n",
       "    .dataframe tbody tr th:only-of-type {\n",
       "        vertical-align: middle;\n",
       "    }\n",
       "\n",
       "    .dataframe tbody tr th {\n",
       "        vertical-align: top;\n",
       "    }\n",
       "\n",
       "    .dataframe thead th {\n",
       "        text-align: right;\n",
       "    }\n",
       "</style>\n",
       "<table border=\"1\" class=\"dataframe\">\n",
       "  <thead>\n",
       "    <tr style=\"text-align: right;\">\n",
       "      <th></th>\n",
       "      <th>ID</th>\n",
       "      <th>Year_Birth</th>\n",
       "      <th>Education</th>\n",
       "      <th>Marital_Status</th>\n",
       "      <th>Income</th>\n",
       "      <th>Kidhome</th>\n",
       "      <th>Teenhome</th>\n",
       "      <th>Dt_Customer</th>\n",
       "      <th>Recency</th>\n",
       "      <th>MntWines</th>\n",
       "      <th>MntFruits</th>\n",
       "      <th>MntMeatProducts</th>\n",
       "      <th>MntFishProducts</th>\n",
       "      <th>MntSweetProducts</th>\n",
       "      <th>MntGoldProds</th>\n",
       "      <th>NumDealsPurchases</th>\n",
       "      <th>NumWebPurchases</th>\n",
       "      <th>NumCatalogPurchases</th>\n",
       "      <th>NumStorePurchases</th>\n",
       "      <th>NumWebVisitsMonth</th>\n",
       "      <th>AcceptedCmp3</th>\n",
       "      <th>AcceptedCmp4</th>\n",
       "      <th>AcceptedCmp5</th>\n",
       "      <th>AcceptedCmp1</th>\n",
       "      <th>AcceptedCmp2</th>\n",
       "      <th>Complain</th>\n",
       "      <th>Z_CostContact</th>\n",
       "      <th>Z_Revenue</th>\n",
       "      <th>Response</th>\n",
       "    </tr>\n",
       "    <tr>\n",
       "      <th>Year</th>\n",
       "      <th></th>\n",
       "      <th></th>\n",
       "      <th></th>\n",
       "      <th></th>\n",
       "      <th></th>\n",
       "      <th></th>\n",
       "      <th></th>\n",
       "      <th></th>\n",
       "      <th></th>\n",
       "      <th></th>\n",
       "      <th></th>\n",
       "      <th></th>\n",
       "      <th></th>\n",
       "      <th></th>\n",
       "      <th></th>\n",
       "      <th></th>\n",
       "      <th></th>\n",
       "      <th></th>\n",
       "      <th></th>\n",
       "      <th></th>\n",
       "      <th></th>\n",
       "      <th></th>\n",
       "      <th></th>\n",
       "      <th></th>\n",
       "      <th></th>\n",
       "      <th></th>\n",
       "      <th></th>\n",
       "      <th></th>\n",
       "      <th></th>\n",
       "    </tr>\n",
       "  </thead>\n",
       "  <tbody>\n",
       "    <tr>\n",
       "      <th>2012</th>\n",
       "      <td>494</td>\n",
       "      <td>494</td>\n",
       "      <td>494</td>\n",
       "      <td>494</td>\n",
       "      <td>490</td>\n",
       "      <td>494</td>\n",
       "      <td>494</td>\n",
       "      <td>494</td>\n",
       "      <td>494</td>\n",
       "      <td>494</td>\n",
       "      <td>494</td>\n",
       "      <td>494</td>\n",
       "      <td>494</td>\n",
       "      <td>494</td>\n",
       "      <td>494</td>\n",
       "      <td>494</td>\n",
       "      <td>494</td>\n",
       "      <td>494</td>\n",
       "      <td>494</td>\n",
       "      <td>494</td>\n",
       "      <td>494</td>\n",
       "      <td>494</td>\n",
       "      <td>494</td>\n",
       "      <td>494</td>\n",
       "      <td>494</td>\n",
       "      <td>494</td>\n",
       "      <td>494</td>\n",
       "      <td>494</td>\n",
       "      <td>494</td>\n",
       "    </tr>\n",
       "    <tr>\n",
       "      <th>2013</th>\n",
       "      <td>1189</td>\n",
       "      <td>1189</td>\n",
       "      <td>1189</td>\n",
       "      <td>1189</td>\n",
       "      <td>1173</td>\n",
       "      <td>1189</td>\n",
       "      <td>1189</td>\n",
       "      <td>1189</td>\n",
       "      <td>1189</td>\n",
       "      <td>1189</td>\n",
       "      <td>1189</td>\n",
       "      <td>1189</td>\n",
       "      <td>1189</td>\n",
       "      <td>1189</td>\n",
       "      <td>1189</td>\n",
       "      <td>1189</td>\n",
       "      <td>1189</td>\n",
       "      <td>1189</td>\n",
       "      <td>1189</td>\n",
       "      <td>1189</td>\n",
       "      <td>1189</td>\n",
       "      <td>1189</td>\n",
       "      <td>1189</td>\n",
       "      <td>1189</td>\n",
       "      <td>1189</td>\n",
       "      <td>1189</td>\n",
       "      <td>1189</td>\n",
       "      <td>1189</td>\n",
       "      <td>1189</td>\n",
       "    </tr>\n",
       "    <tr>\n",
       "      <th>2014</th>\n",
       "      <td>557</td>\n",
       "      <td>557</td>\n",
       "      <td>557</td>\n",
       "      <td>557</td>\n",
       "      <td>553</td>\n",
       "      <td>557</td>\n",
       "      <td>557</td>\n",
       "      <td>557</td>\n",
       "      <td>557</td>\n",
       "      <td>557</td>\n",
       "      <td>557</td>\n",
       "      <td>557</td>\n",
       "      <td>557</td>\n",
       "      <td>557</td>\n",
       "      <td>557</td>\n",
       "      <td>557</td>\n",
       "      <td>557</td>\n",
       "      <td>557</td>\n",
       "      <td>557</td>\n",
       "      <td>557</td>\n",
       "      <td>557</td>\n",
       "      <td>557</td>\n",
       "      <td>557</td>\n",
       "      <td>557</td>\n",
       "      <td>557</td>\n",
       "      <td>557</td>\n",
       "      <td>557</td>\n",
       "      <td>557</td>\n",
       "      <td>557</td>\n",
       "    </tr>\n",
       "  </tbody>\n",
       "</table>\n",
       "</div>"
      ],
      "text/plain": [
       "        ID  Year_Birth  Education  Marital_Status  Income  Kidhome  Teenhome  \\\n",
       "Year                                                                           \n",
       "2012   494         494        494             494     490      494       494   \n",
       "2013  1189        1189       1189            1189    1173     1189      1189   \n",
       "2014   557         557        557             557     553      557       557   \n",
       "\n",
       "      Dt_Customer  Recency  MntWines  MntFruits  MntMeatProducts  \\\n",
       "Year                                                               \n",
       "2012          494      494       494        494              494   \n",
       "2013         1189     1189      1189       1189             1189   \n",
       "2014          557      557       557        557              557   \n",
       "\n",
       "      MntFishProducts  MntSweetProducts  MntGoldProds  NumDealsPurchases  \\\n",
       "Year                                                                       \n",
       "2012              494               494           494                494   \n",
       "2013             1189              1189          1189               1189   \n",
       "2014              557               557           557                557   \n",
       "\n",
       "      NumWebPurchases  NumCatalogPurchases  NumStorePurchases  \\\n",
       "Year                                                            \n",
       "2012              494                  494                494   \n",
       "2013             1189                 1189               1189   \n",
       "2014              557                  557                557   \n",
       "\n",
       "      NumWebVisitsMonth  AcceptedCmp3  AcceptedCmp4  AcceptedCmp5  \\\n",
       "Year                                                                \n",
       "2012                494           494           494           494   \n",
       "2013               1189          1189          1189          1189   \n",
       "2014                557           557           557           557   \n",
       "\n",
       "      AcceptedCmp1  AcceptedCmp2  Complain  Z_CostContact  Z_Revenue  Response  \n",
       "Year                                                                            \n",
       "2012           494           494       494            494        494       494  \n",
       "2013          1189          1189      1189           1189       1189      1189  \n",
       "2014           557           557       557            557        557       557  "
      ]
     },
     "execution_count": 29,
     "metadata": {},
     "output_type": "execute_result"
    }
   ],
   "source": [
    "\n"
   ]
  },
  {
   "cell_type": "markdown",
   "id": "d404f6d8",
   "metadata": {},
   "source": [
    "### Multivariate Analysis"
   ]
  },
  {
   "cell_type": "code",
   "execution_count": null,
   "id": "4311477d",
   "metadata": {},
   "outputs": [],
   "source": []
  },
  {
   "cell_type": "markdown",
   "id": "f6b8a51e",
   "metadata": {},
   "source": [
    "* Multivariate analysis is the analysis of more than one variable."
   ]
  },
  {
   "cell_type": "markdown",
   "id": "02c8e487",
   "metadata": {},
   "source": [
    "### Check Multicollinearity in Numerical features"
   ]
  },
  {
   "cell_type": "code",
   "execution_count": null,
   "id": "13b3c21b",
   "metadata": {},
   "outputs": [],
   "source": [
    "df[(list(df.columns)[1:])].corr()"
   ]
  },
  {
   "cell_type": "code",
   "execution_count": null,
   "id": "5425a7b3",
   "metadata": {},
   "outputs": [],
   "source": [
    "plt.figure(figsize = (15,10))\n",
    "sns.heatmap(df.corr(), cmap=\"CMRmap\", annot=True)\n",
    "plt.show()"
   ]
  },
  {
   "cell_type": "markdown",
   "id": "533b5b71",
   "metadata": {},
   "source": [
    "**Report** \n",
    "* Our target column ProdTaken has a weak negative correlation on Age and MontlyIncome.\n",
    "* The NumberOfFollowups and Passport columns also have a weak positive correlation with ProdTaken.\n",
    "* The NumberOfPersonVisiting and NumberOfChildrenVisiting columns have a strong enough positive correlation."
   ]
  },
  {
   "cell_type": "markdown",
   "id": "9138ebb9",
   "metadata": {},
   "source": [
    "### Check Multicollinearity for Categorical features"
   ]
  },
  {
   "cell_type": "markdown",
   "id": "993aadd5",
   "metadata": {},
   "source": [
    "* **A chi-squared test (also chi-square or χ2 test) is a statistical hypothesis test that is valid to perform when the test statistic is chi-squared distributed under the null hypothesis, specifically Pearson's chi-squared test**\n",
    "\n",
    "* **A chi-square statistic is one way to show a relationship between two categorical variables.**\n",
    "\n",
    "* **Here we test correlation of Categorical columns with Target column i.e ProdTaken**"
   ]
  },
  {
   "cell_type": "code",
   "execution_count": null,
   "id": "effa19f6",
   "metadata": {},
   "outputs": [],
   "source": [
    "from scipy.stats import chi2_contingency\n",
    "chi2_test = []\n",
    "for feature in categorical_features:\n",
    "    if chi2_contingency(pd.crosstab(df['ProdTaken'], df[feature]))[1] < 0.05:\n",
    "        chi2_test.append('Reject Null Hypothesis')\n",
    "    else:\n",
    "        chi2_test.append('Fail to Reject Null Hypothesis')\n",
    "result = pd.DataFrame(data=[categorical_features, chi2_test]).T\n",
    "result.columns = ['Column', 'Hypothesis Result']\n",
    "result"
   ]
  },
  {
   "cell_type": "markdown",
   "id": "4274dfce",
   "metadata": {},
   "source": [
    "**Report** \n",
    "* Here Gender Column Fails to Rejects Null Hypothesis which means it doesn't correlate with target column."
   ]
  },
  {
   "cell_type": "markdown",
   "id": "5950201d",
   "metadata": {},
   "source": [
    "### Checking Null Values"
   ]
  },
  {
   "cell_type": "code",
   "execution_count": null,
   "id": "e3a9191f",
   "metadata": {},
   "outputs": [],
   "source": [
    "df.isnull().sum()"
   ]
  },
  {
   "cell_type": "code",
   "execution_count": null,
   "id": "5fdf97e4",
   "metadata": {
    "scrolled": true
   },
   "outputs": [],
   "source": [
    "continues_features=[feature for feature in numeric_features if len(df[feature].unique())>=10]\n",
    "print('Num of continues features :',continues_features)"
   ]
  },
  {
   "cell_type": "code",
   "execution_count": null,
   "id": "6609576f",
   "metadata": {
    "scrolled": false
   },
   "outputs": [],
   "source": [
    "clr1 = ['#1E90FF', '#DC143C']\n",
    "fig, ax = plt.subplots(5, 2, figsize=(12,20))\n",
    "fig.suptitle('Distribution of Numerical Features By Product Taken', color='#3C3744',\n",
    "             fontsize=20, fontweight='bold', ha='center')\n",
    "for i, col in enumerate(continues_features):   \n",
    "    sns.boxplot(data=df, x='ProdTaken', y=col,  palette=clr1, ax=ax[i,0])\n",
    "    ax[i,0].set_title(f'Boxplot of {col}', fontsize=12)\n",
    "    sns.histplot(data=df, x=col, hue='ProdTaken', bins=20, kde=True, \n",
    "                 multiple='stack', palette=clr1, ax=ax[i,1])\n",
    "    ax[i,1].set_title(f'Histogram of {col}', fontsize=14)\n",
    "fig.tight_layout()\n",
    "fig.subplots_adjust(top=0.90)\n",
    "# plt.savefig('images/multivariate_num.png')"
   ]
  },
  {
   "cell_type": "markdown",
   "id": "075194a0",
   "metadata": {},
   "source": [
    "**Report**\n",
    "* In the CustomerID column has unique value for each row, it can be ignored as a feature.\n",
    "* Customers with monthly incomes ranging from 150000-250000 are more likely buying travel packages.\n",
    "* Pitch duration that sales team do under 20 minutes made more sales."
   ]
  },
  {
   "cell_type": "markdown",
   "id": "999c4aeb",
   "metadata": {},
   "source": [
    "## Initial Analysis Report"
   ]
  },
  {
   "cell_type": "markdown",
   "id": "ec920a74",
   "metadata": {},
   "source": [
    "* **There are missing values in the Age, DurationOfPitch, NumberOfFollowups, PreferredPropertyStar, NumberOfTrips, NumberOfChildrenVisiting, MonthlyIncome, TypeofContact columns.**\n",
    "* **The CustomerID column can be deleted because each row has unique values.**\n",
    "* **The ProdTaken column is the target to predict.**\n",
    "* **In the Categorical column, features can be entered, namely TypeofContact, Occupation, ProductPitched, MaritalStatus, and Designation because based on the results of hypothesis testing using chi-square successfully rejects H0 (meaning it is correlated with the target)**"
   ]
  },
  {
   "cell_type": "markdown",
   "id": "51e008b6",
   "metadata": {},
   "source": [
    "## 4. Visualization"
   ]
  },
  {
   "cell_type": "markdown",
   "id": "1daa60f0",
   "metadata": {},
   "source": [
    "### 4.1 Visualize the Target Feature"
   ]
  },
  {
   "cell_type": "code",
   "execution_count": null,
   "id": "3fc276e0",
   "metadata": {},
   "outputs": [],
   "source": [
    "df1 = df.copy()\n",
    "df1['ProdTaken'] = np.where((df.ProdTaken == 1),'Purchased', 'Not-Purchased' )"
   ]
  },
  {
   "cell_type": "code",
   "execution_count": null,
   "id": "f3ceb2e8",
   "metadata": {},
   "outputs": [],
   "source": [
    "percentage = df1.ProdTaken.value_counts(normalize=True)*100\n",
    "labels = [\"Not-Purchased\",\"Purchased\"]\n",
    "\n",
    "# Plot PieChart with Ploty library\n",
    "fig, ax = plt.subplots(figsize =(15, 8))\n",
    "explode = (0, 0.1)\n",
    "colors = ['#e63a2a', '#1188ff']\n",
    "ax.pie(percentage, labels = labels, startangle = 90,\n",
    "       autopct='%1.2f%%',explode=explode, shadow=True, colors=colors)\n",
    "plt.show()"
   ]
  },
  {
   "cell_type": "markdown",
   "id": "9688fcfe",
   "metadata": {},
   "source": [
    "* From the chart it is clear that the Target Variable is Imbalanced\n",
    "**What is imbalanced data?**\n",
    "\n",
    "Imbalanced data are types of data where the target class has an uneven distribution of observations, i.e Here Not-Purchased value has more count than the Purchased value of the dataset."
   ]
  },
  {
   "cell_type": "markdown",
   "id": "e05ba6d1",
   "metadata": {},
   "source": [
    "### 4.2 Do Men or Women who Purchased more?"
   ]
  },
  {
   "cell_type": "code",
   "execution_count": null,
   "id": "8ae1b7f0",
   "metadata": {},
   "outputs": [],
   "source": [
    "df1.columns"
   ]
  },
  {
   "cell_type": "code",
   "execution_count": null,
   "id": "c478dbff",
   "metadata": {},
   "outputs": [],
   "source": [
    "df1[df1.ProdTaken == 'Purchased'].Gender.value_counts(normalize=True)"
   ]
  },
  {
   "cell_type": "code",
   "execution_count": null,
   "id": "2e8f5aae",
   "metadata": {},
   "outputs": [],
   "source": [
    "plt.subplots(figsize=(14,7))\n",
    "sns.countplot(x=\"Gender\",hue=\"ProdTaken\", data=df1,ec = \"black\",palette=\"Set2\")\n",
    "plt.title(\"Gender vs Purchase\", weight=\"bold\",fontsize=20, pad=20)\n",
    "plt.ylabel(\"Package Count\", weight=\"bold\", fontsize=20)\n",
    "plt.xlabel(\"Gender\", weight=\"bold\", fontsize=16)\n",
    "plt.show()"
   ]
  },
  {
   "cell_type": "markdown",
   "id": "aba5c7f1",
   "metadata": {},
   "source": [
    "**Report:**\n",
    "* As per the Chart Male customers Purchased more than Female customers.\n",
    "* 37% Female customers and 63% Male customers.\n",
    "* This Feature has impact on the Target Variable."
   ]
  },
  {
   "cell_type": "markdown",
   "id": "a27c90c2",
   "metadata": {},
   "source": [
    "#### AGE Category Split"
   ]
  },
  {
   "cell_type": "code",
   "execution_count": null,
   "id": "ce567224",
   "metadata": {},
   "outputs": [],
   "source": [
    "bins= [10,20,50,70]\n",
    "labels = ['Teens','Adult','Senior']\n",
    "df['AgeGroup'] = pd.cut(df['Age'], bins=bins, labels=labels, right=False)\n",
    "age_group = df.groupby(['AgeGroup', 'ProdTaken'])['CustomerID'].count().reset_index(name='TotalCustomer')\n",
    "age_group"
   ]
  },
  {
   "cell_type": "code",
   "execution_count": null,
   "id": "3cbc686e",
   "metadata": {},
   "outputs": [],
   "source": [
    "plt.subplots(figsize=(14,7))\n",
    "sns.countplot(x=\"AgeGroup\",hue=\"ProdTaken\", data=df,ec = \"black\",palette=\"Set1\")\n",
    "plt.title(\"Gender vs Purchase\", weight=\"bold\",fontsize=20, pad=20)\n",
    "plt.ylabel(\"Package Count\", weight=\"bold\", fontsize=20)\n",
    "plt.xlabel(\"Gender\", weight=\"bold\", fontsize=16)\n",
    "plt.show()"
   ]
  },
  {
   "cell_type": "markdown",
   "id": "58cd84d1",
   "metadata": {},
   "source": [
    "**Report:**\n",
    "* As per the Chart Adult age Group has the most share of purchase.\n",
    "* The AgeGroup is 20-50 years old."
   ]
  },
  {
   "cell_type": "markdown",
   "id": "1c62a7cd",
   "metadata": {},
   "source": [
    "### 4.3 Do Maritial Status has any Effect on Purchasing of Product"
   ]
  },
  {
   "cell_type": "code",
   "execution_count": null,
   "id": "88e66759",
   "metadata": {
    "scrolled": true
   },
   "outputs": [],
   "source": [
    "df.groupby('MaritalStatus').ProdTaken.value_counts(normalize=True)"
   ]
  },
  {
   "cell_type": "code",
   "execution_count": null,
   "id": "e3061091",
   "metadata": {},
   "outputs": [],
   "source": [
    "plt.subplots(figsize=(14,7))\n",
    "df['Gender'] = df['Gender'].replace('Fe Male', 'Female')\n",
    "sns.barplot(x=\"MaritalStatus\", y='ProdTaken',hue=\"Gender\", data=df,ec = \"black\",palette=\"Set2\")\n",
    "plt.title(\"Marital Status vs Purchase\", weight=\"bold\",fontsize=20, pad=20)\n",
    "plt.ylabel(\"Package Taken\", weight=\"bold\", fontsize=20)\n",
    "plt.xlabel(\"MaritalStatus\", weight=\"bold\", fontsize=16)\n",
    "plt.show()"
   ]
  },
  {
   "cell_type": "markdown",
   "id": "edb77c2c",
   "metadata": {},
   "source": [
    "**Report:**\n",
    "* As per the Chart Male and Female customers who are Single has Purchased more than Divorced and Married and UnMarried.\n",
    "* 33.18% of Single Customers, 24% of UnMarried Customers\n",
    "* Followed by approx 13% of Divorced and Married Customers"
   ]
  },
  {
   "cell_type": "markdown",
   "id": "f982f668",
   "metadata": {},
   "source": [
    "### 4.4 Duration Of Pitch vs Product Purchase"
   ]
  },
  {
   "cell_type": "code",
   "execution_count": null,
   "id": "94601836",
   "metadata": {},
   "outputs": [],
   "source": [
    "plt.subplots(figsize=(14,7))\n",
    "sns.barplot(x=\"ProdTaken\", y='DurationOfPitch', data=df1,ec = \"black\",palette=\"Set3\")\n",
    "plt.title(\"Duration of Pitch Call vs Purchase Status\", weight=\"bold\",fontsize=20, pad=20)\n",
    "plt.ylabel(\"Duration Of Pitch\", weight=\"bold\", fontsize=20)\n",
    "plt.xlabel(\"Product\", weight=\"bold\", fontsize=16)\n",
    "plt.show()"
   ]
  },
  {
   "cell_type": "code",
   "execution_count": null,
   "id": "74ee3dcf",
   "metadata": {},
   "outputs": [],
   "source": [
    "pitch_less_10_and_taken = (df.loc[(df['DurationOfPitch']<10) & (df['ProdTaken'] == 1 )]).shape[0]\n",
    "pitch_less_10_and_not_taken = (df.loc[(df['DurationOfPitch']<10) & (df['ProdTaken'] == 0 )]).shape[0]\n",
    "\n",
    "pitch_between_10_30_and_taken = df.loc[(df['DurationOfPitch']<30) & (df['ProdTaken'] == 1 ) & (df['DurationOfPitch']>10)].shape[0]\n",
    "pitch_between_10_30_and_not_taken = df.loc[(df['DurationOfPitch']<30) & (df['ProdTaken'] == 0) & (df['DurationOfPitch']>10)].shape[0]\n",
    "\n",
    "pitch_more_than_30_and_taken = df.loc[(df['DurationOfPitch']>30) & (df['ProdTaken'] == 1 )].shape[0]\n",
    "pitch_more_than_30_and_not_taken = df.loc[(df['DurationOfPitch']>30) & (df['ProdTaken'] == 0)].shape[0]\n",
    "\n",
    "\n",
    "total_package_taken = (df.loc[(df['ProdTaken'] == 1 )]).shape[0]\n",
    "\n",
    "print(f\"Total {pitch_less_10_and_taken + pitch_less_10_and_not_taken} Pitch for less than 10 minutes and {pitch_less_10_and_taken} were bought which is about {pitch_less_10_and_taken/(pitch_less_10_and_taken + pitch_less_10_and_not_taken):.2f}%\")\n",
    "print(f\"Total {pitch_between_10_30_and_taken + pitch_between_10_30_and_not_taken} Pitch for between 10 and 30 minutes and {pitch_between_10_30_and_taken} were bought which is about {pitch_between_10_30_and_taken/(pitch_between_10_30_and_taken + pitch_between_10_30_and_not_taken):.2f}%\")\n",
    "print(f\"Total {pitch_more_than_30_and_taken + pitch_more_than_30_and_not_taken} Pitch for more than 30 minutes and {pitch_more_than_30_and_taken} were bought which is about {pitch_more_than_30_and_taken/(pitch_more_than_30_and_taken + pitch_more_than_30_and_not_taken):.2f}%\")"
   ]
  },
  {
   "cell_type": "code",
   "execution_count": null,
   "id": "367d4375",
   "metadata": {},
   "outputs": [],
   "source": [
    "plt.subplots(figsize=(14,7))\n",
    "sns.histplot(x=\"DurationOfPitch\", data=df1,palette=\"Set1\", hue=\"ProdTaken\")\n",
    "plt.title(\"Duration of Pitch Call vs Purchase Status\", weight=\"bold\",fontsize=20, pad=20)\n",
    "plt.ylabel(\"Count of Pitch\", weight=\"bold\", fontsize=20)\n",
    "plt.xlabel(\"Duration of Pitch Call in Minutes\", weight=\"bold\", fontsize=16)\n",
    "plt.xlim(4,40)\n",
    "plt.show()"
   ]
  },
  {
   "cell_type": "code",
   "execution_count": null,
   "id": "0c98198a",
   "metadata": {},
   "outputs": [],
   "source": [
    "print(f\"Out of total {total_package_taken} packages, \\n {pitch_less_10_and_taken/total_package_taken:.2f}% comes from talking less than 10 minutes,\\n {pitch_between_10_30_and_taken/total_package_taken:.2f}% comes from talking between 10 minutes and 30 minutes,\\n {pitch_more_than_30_and_taken/total_package_taken:.2f}% comes from talking more than 30 minutes\")"
   ]
  },
  {
   "cell_type": "markdown",
   "id": "a45c0292",
   "metadata": {},
   "source": [
    "| Package Sold     | Pitch Duration |\n",
    "| ----------- | ----------- |\n",
    "| 24%      | Less than 10 Minutes       |\n",
    "| 57%   | Between 10 Minutes and 30 Minutes        |\n",
    "| 9%   | Talking More than 30 Minutes        |"
   ]
  },
  {
   "cell_type": "markdown",
   "id": "2c0071a8",
   "metadata": {},
   "source": [
    "**Report:**\n",
    "* As per the Chart Duration of Pitch has Impact on Target Variable\n",
    "* 57% Of Package Sold were Pitched between 10 minutes and 30 Minutes "
   ]
  },
  {
   "cell_type": "markdown",
   "id": "71473342",
   "metadata": {},
   "source": [
    "### 4.5 Number of Person Visiting vs Product Purchase"
   ]
  },
  {
   "cell_type": "markdown",
   "id": "08353b73",
   "metadata": {},
   "source": [
    "**NumberOfPersonVisiting:** Total number of persons planning to take the trip with the customer"
   ]
  },
  {
   "cell_type": "code",
   "execution_count": null,
   "id": "216d00e5",
   "metadata": {},
   "outputs": [],
   "source": [
    "plt.subplots(figsize=(14,7))\n",
    "sns.countplot(x=\"NumberOfPersonVisiting\",hue=\"ProdTaken\", data= df1,ec = \"black\",palette=\"Set2\")\n",
    "plt.title(\"Number Of Person Visiting vs Package Purchase status\", weight=\"bold\",fontsize=20, pad=20)\n",
    "plt.ylabel(\"Package Count\", weight=\"bold\", fontsize=20)\n",
    "plt.xlabel(\"Number Of Person Visiting\", weight=\"bold\", fontsize=16)\n",
    "plt.show()"
   ]
  },
  {
   "cell_type": "markdown",
   "id": "54560215",
   "metadata": {},
   "source": [
    "**Report:**\n",
    "* As per the Chart Most Purchase were from 3 People. That might be 3 Unmarried Friends or a Family with Couple and a Child.\n",
    "* Followed by 2 Number of Person."
   ]
  },
  {
   "cell_type": "markdown",
   "id": "c6291a6f",
   "metadata": {},
   "source": [
    "### 4.6 Number of Sales Followup  vs Product Purchase"
   ]
  },
  {
   "cell_type": "markdown",
   "id": "2acc043b",
   "metadata": {},
   "source": [
    "**Create df2 which is data of who have purchased**"
   ]
  },
  {
   "cell_type": "code",
   "execution_count": null,
   "id": "b329d84b",
   "metadata": {},
   "outputs": [],
   "source": [
    "df2 = df1[df1['ProdTaken']== 'Purchased']\n",
    "plt.subplots(figsize=(14,7))\n",
    "sns.countplot(x=\"NumberOfFollowups\",hue=\"ProdTaken\", data= df2,ec = \"black\",palette=\"rainbow_r\")\n",
    "plt.title(\"Number Of Followups vs Product Purchased\", weight=\"bold\",fontsize=20, pad=20)\n",
    "plt.ylabel(\"Package Purchased\", weight=\"bold\", fontsize=20)\n",
    "plt.xlabel(\"Number Of Followups by Sales Team\", weight=\"bold\", fontsize=16)\n",
    "plt.show()"
   ]
  },
  {
   "cell_type": "markdown",
   "id": "30b1ec93",
   "metadata": {},
   "source": [
    "**Report:**\n",
    "* As per the Chart If Sales team Follows Up like 4 times gets more people Purchasing."
   ]
  },
  {
   "cell_type": "code",
   "execution_count": null,
   "id": "1904c5af",
   "metadata": {},
   "outputs": [],
   "source": [
    "for i in range(1, 7):\n",
    "    followup_taken = df.loc[(df1['NumberOfFollowups'] == i) & (df1['ProdTaken'] == 'Purchased')].shape[0]\n",
    "    followup_all= df.loc[(df1['NumberOfFollowups'] == i)].shape[0]\n",
    "\n",
    "    followup_ratio = followup_taken/followup_all\n",
    "\n",
    "    print(f\"For the follow up {i} Time, total number is {followup_all} and ratio is {followup_ratio:.2f}%\")"
   ]
  },
  {
   "cell_type": "markdown",
   "id": "b4231fb1",
   "metadata": {},
   "source": [
    "**Report:**\n",
    "- Very Few inquiries has been followed for 6 times, and they have the highes ratio\n",
    "- It seem like in the second followups, people confused and had less Purchase."
   ]
  },
  {
   "cell_type": "markdown",
   "id": "d83d3f52",
   "metadata": {},
   "source": [
    "### 4.7 City Tier vs Purchase Status"
   ]
  },
  {
   "cell_type": "code",
   "execution_count": null,
   "id": "80ac75fe",
   "metadata": {},
   "outputs": [],
   "source": [
    "df1.groupby('CityTier').ProdTaken.value_counts()"
   ]
  },
  {
   "cell_type": "code",
   "execution_count": null,
   "id": "639a9354",
   "metadata": {},
   "outputs": [],
   "source": [
    "plt.subplots(figsize=(13,7))\n",
    "sns.countplot(x=\"CityTier\",hue=\"ProdTaken\", data= df1,ec = \"black\",palette=\"Set2\")\n",
    "plt.title(\"CityTier vs Package Purchase Status\", weight=\"bold\",fontsize=20, pad=20)\n",
    "plt.ylabel(\"Package Count\", weight=\"bold\", fontsize=20)\n",
    "plt.xlabel(\"CityTier\", weight=\"bold\", fontsize=16)\n",
    "plt.show()"
   ]
  },
  {
   "cell_type": "markdown",
   "id": "b1a50ca1",
   "metadata": {},
   "source": [
    "**Report:**\n",
    "- Many customers are from City tier 1 compared to other tier.\n",
    "- City Tier has very good impact on target variable."
   ]
  },
  {
   "cell_type": "markdown",
   "id": "f3421ae2",
   "metadata": {},
   "source": [
    "### 4.7 Occupation vs Product Purchase"
   ]
  },
  {
   "cell_type": "code",
   "execution_count": null,
   "id": "29571d93",
   "metadata": {},
   "outputs": [],
   "source": [
    "plt.subplots(figsize=(14,7))\n",
    "sns.countplot(x=\"Occupation\",hue=\"Gender\", data= df2,ec = \"black\",palette=\"Set1\")\n",
    "plt.title(\"Occupation vs Product Purchased Customers\", weight=\"bold\",fontsize=20, pad=20)\n",
    "plt.ylabel(\"Package Purchased\", weight=\"bold\", fontsize=20)\n",
    "plt.xlabel(\"Occupation\", weight=\"bold\", fontsize=16)\n",
    "plt.show()"
   ]
  },
  {
   "cell_type": "markdown",
   "id": "b7d1d413",
   "metadata": {},
   "source": [
    "**Report:**\n",
    "* As Per Chart we can see Business Males have purchased more than Salaried Male.\n",
    "* We can also see Salaried Females has purchased more than the Small Business  Females.\n",
    "* Followed by Large Business and Freelancing"
   ]
  },
  {
   "cell_type": "markdown",
   "id": "ef999e85",
   "metadata": {},
   "source": [
    "### 4.8 Product Pitched and Product's Status"
   ]
  },
  {
   "cell_type": "markdown",
   "id": "f2c6cdf4",
   "metadata": {},
   "source": [
    "**Products Pitched and Products sold**"
   ]
  },
  {
   "cell_type": "code",
   "execution_count": null,
   "id": "f8224f0e",
   "metadata": {},
   "outputs": [],
   "source": [
    "plt.subplots(figsize=(14,7))\n",
    "sns.countplot(x=\"ProductPitched\", data= df2,ec = \"black\",palette=\"CMRmap\")\n",
    "plt.title(\"Product Pitched and Purchase Count\", weight=\"bold\",fontsize=20, pad=20)\n",
    "plt.ylabel(\"Package Purchased\", weight=\"bold\", fontsize=20)\n",
    "plt.xlabel(\"Products\", weight=\"bold\", fontsize=16)\n",
    "plt.show()"
   ]
  },
  {
   "cell_type": "markdown",
   "id": "fc555d28",
   "metadata": {},
   "source": [
    "**Report:**\n",
    "* Basic Package was the most preferred package by customers\n",
    "* Deluxe is Second more Purchased Package"
   ]
  },
  {
   "cell_type": "markdown",
   "id": "4a084b2a",
   "metadata": {},
   "source": [
    "**Products Pitched and Not Purchased**"
   ]
  },
  {
   "cell_type": "code",
   "execution_count": null,
   "id": "147a6e22",
   "metadata": {},
   "outputs": [],
   "source": [
    "df3 = df1[df1['ProdTaken']=='Not-Purchased']\n",
    "plt.subplots(figsize=(14,7))\n",
    "sns.countplot(x=\"ProductPitched\", data= df3,ec = \"black\",palette=\"CMRmap\")\n",
    "plt.title(\"Product Pitched and Purchase Count\", weight=\"bold\",fontsize=20, pad=20)\n",
    "plt.ylabel(\"Package Purchased\", weight=\"bold\", fontsize=20)\n",
    "plt.xlabel(\"Products\", weight=\"bold\", fontsize=16)\n",
    "plt.show()"
   ]
  },
  {
   "cell_type": "markdown",
   "id": "3ffb4619",
   "metadata": {},
   "source": [
    "**Report:**\n",
    "* Deluxe Package was the most Pitched package by Sales Yet People didnt buy it.\n",
    "* Reducing the cost of Deluxe Package might help in getting sucessfull sales pitch."
   ]
  },
  {
   "cell_type": "markdown",
   "id": "63dba491",
   "metadata": {},
   "source": [
    "### 4.9 Preferred Property Star vs Product Purchase"
   ]
  },
  {
   "cell_type": "code",
   "execution_count": null,
   "id": "52304310",
   "metadata": {},
   "outputs": [],
   "source": [
    "plt.subplots(figsize=(14,7))\n",
    "sns.countplot(x=\"PreferredPropertyStar\",hue=\"ProdTaken\", data= df1,ec = \"black\",palette=\"rainbow_r\")\n",
    "plt.title(\"Preferred Property Star vs Package Purchase status\", weight=\"bold\",fontsize=20, pad=20)\n",
    "plt.ylabel(\"Package Count\", weight=\"bold\", fontsize=20)\n",
    "plt.xlabel(\"Preferred Property Star\", weight=\"bold\", fontsize=16)\n",
    "plt.show()"
   ]
  },
  {
   "cell_type": "markdown",
   "id": "668b5d7e",
   "metadata": {},
   "source": [
    "**Report**:\n",
    "- People Perfered More 3 Star Hotels Followed by 5 Stars and 4 Stars"
   ]
  },
  {
   "cell_type": "markdown",
   "id": "3f57225d",
   "metadata": {},
   "source": [
    "### 4.10 Passport vs Package Purchase"
   ]
  },
  {
   "cell_type": "code",
   "execution_count": null,
   "id": "1268e1a0",
   "metadata": {},
   "outputs": [],
   "source": [
    "plt.subplots(figsize=(14,7))\n",
    "sns.countplot(x=\"Passport\",hue=\"ProdTaken\", data= df1,ec = \"black\",palette=\"Set2\")\n",
    "plt.title(\"Passport vs Package Purchase status\", weight=\"bold\",fontsize=20, pad=20)\n",
    "plt.ylabel(\"Package Count\", weight=\"bold\", fontsize=20)\n",
    "plt.xlabel(\"Passport\", weight=\"bold\", fontsize=16)\n",
    "plt.show()"
   ]
  },
  {
   "cell_type": "markdown",
   "id": "c219dd81",
   "metadata": {},
   "source": [
    "**Report**:\n",
    "- People Most people who had Passport had purchased the package.\n",
    "- Poeple with No passport mostly didn't Purchase the package."
   ]
  },
  {
   "cell_type": "code",
   "execution_count": null,
   "id": "a9f5f30e",
   "metadata": {},
   "outputs": [],
   "source": [
    "# Plot Line Chart\n",
    "plt.figure(figsize=(14,7))\n",
    "sns.countplot(x = df2.NumberOfTrips, color='g')\n",
    "plt.title(\"Number of Trips vs Package Purchased\", weight = \"bold\",fontsize=20, pad=20)\n",
    "plt.xlabel(\"Number of Trips\",weight=\"bold\", fontsize=16)\n",
    "plt.ylabel(\"Count of Purchase\",weight=\"bold\", fontsize=20)\n",
    "plt.xlim(0,10)"
   ]
  },
  {
   "cell_type": "markdown",
   "id": "f48ec8e2",
   "metadata": {},
   "source": [
    "**Report**:\n",
    "- People with 2 Trips had more purchase.\n",
    "- People with more than 8 Trips make no purchase."
   ]
  },
  {
   "cell_type": "markdown",
   "id": "c115d936",
   "metadata": {},
   "source": [
    "## 4.11 Own car vs Products Purchase"
   ]
  },
  {
   "cell_type": "code",
   "execution_count": null,
   "id": "cd8356a3",
   "metadata": {},
   "outputs": [],
   "source": [
    "plt.subplots(figsize=(14,7))\n",
    "sns.countplot(x=\"OwnCar\",hue=\"ProdTaken\", data= df1,ec = \"black\",palette=\"Set2\")\n",
    "plt.title(\"Own Car vs Package Purchase status\", weight=\"bold\",fontsize=20, pad=20)\n",
    "plt.ylabel(\"Package Count\", weight=\"bold\", fontsize=20)\n",
    "plt.xlabel(\"Own Car\", weight=\"bold\", fontsize=16)\n",
    "plt.show()"
   ]
  },
  {
   "cell_type": "markdown",
   "id": "e71dcfd3",
   "metadata": {},
   "source": [
    "**Report**:\n",
    "- People with Car has puchased the package more, also show their income is in higher category."
   ]
  },
  {
   "cell_type": "markdown",
   "id": "ace55690",
   "metadata": {},
   "source": [
    "### 4.12 Number of Children visit vs Package purchase"
   ]
  },
  {
   "cell_type": "code",
   "execution_count": null,
   "id": "a8d8cc2b",
   "metadata": {},
   "outputs": [],
   "source": [
    "plt.subplots(figsize=(14,7))\n",
    "sns.countplot(x=\"NumberOfChildrenVisiting\",hue=\"ProdTaken\", data= df1,ec = \"black\",palette=\"Set2\")\n",
    "plt.title(\"Number Of Children Visiting vs Package Purchase Status\", weight=\"bold\",fontsize=20, pad=20)\n",
    "plt.ylabel(\"Package Count\", weight=\"bold\", fontsize=20)\n",
    "plt.xlabel(\"Number Of Children Visiting\", weight=\"bold\", fontsize=16)\n",
    "plt.show()"
   ]
  },
  {
   "cell_type": "markdown",
   "id": "027cbc72",
   "metadata": {},
   "source": [
    "**Report**:\n",
    "- People with 1 Children has puchased the package more, Just like what we saw in Number of person visiting it was 3 people package which was sold more, it will be Married Couple with 1 child."
   ]
  },
  {
   "cell_type": "markdown",
   "id": "27882010",
   "metadata": {},
   "source": [
    "### 4.13 Designation vs Package Purchased"
   ]
  },
  {
   "cell_type": "code",
   "execution_count": null,
   "id": "59b8b40b",
   "metadata": {},
   "outputs": [],
   "source": [
    "plt.subplots(figsize=(17,8))\n",
    "sns.countplot(x=\"Designation\",hue=\"ProdTaken\", data= df2,ec = \"black\",palette=\"rainbow_r\")\n",
    "plt.title(\"Designation vs Package Purchased\", weight=\"bold\",fontsize=20, pad=20)\n",
    "plt.ylabel(\"Package Count\", weight=\"bold\", fontsize=20)\n",
    "plt.xlabel(\"Designation\", weight=\"bold\", fontsize=16)\n",
    "plt.show()"
   ]
  },
  {
   "cell_type": "markdown",
   "id": "c8ea4a71",
   "metadata": {},
   "source": [
    "**Report**\n",
    "* Executives have purchased the Product more than other designation people.\n",
    "* This feature has very good impact on target variable."
   ]
  },
  {
   "cell_type": "markdown",
   "id": "268b7b47",
   "metadata": {},
   "source": [
    "## Final Report"
   ]
  },
  {
   "cell_type": "markdown",
   "id": "236e6dbd",
   "metadata": {},
   "source": [
    "* The Column names and Data types are correct, but there are Spelling errors in the Gender column.\n",
    "* The `ProdTaken` column is the target to predict.\n",
    "* There are outliers in the `DurationOfPitch, NumberOfTrips, MonthlyIncome` columns.\n",
    "* The `NumberOfPersonVisiting and NumberOfChildrenVisiting` columns have a positive correlation they can be combined to form a new feature\n",
    "* Follow Ups on sales pitch more than 3 times has given good results.\n",
    "* Numeric fields that appear to have a correlation to the target can be used as features, namely `Age`, `MontlyIncome`, `NumberOfFollowups` and `Passport`.\n",
    "* Sales Pitch for 5 to 20 minutes is a very good range.\n",
    "* Some numeric columns that appear completely uncorrelated to the target can be deleted."
   ]
  },
  {
   "cell_type": "code",
   "execution_count": null,
   "id": "685519eb",
   "metadata": {},
   "outputs": [],
   "source": [
    "########################-------------Feature Engineering and Model Training in Next ipynb------------###########################"
   ]
  },
  {
   "cell_type": "code",
   "execution_count": null,
   "id": "8b942d72",
   "metadata": {},
   "outputs": [],
   "source": []
  }
 ],
 "metadata": {
  "kernelspec": {
   "display_name": "Python 3 (ipykernel)",
   "language": "python",
   "name": "python3"
  },
  "language_info": {
   "codemirror_mode": {
    "name": "ipython",
    "version": 3
   },
   "file_extension": ".py",
   "mimetype": "text/x-python",
   "name": "python",
   "nbconvert_exporter": "python",
   "pygments_lexer": "ipython3",
   "version": "3.8.13"
  }
 },
 "nbformat": 4,
 "nbformat_minor": 5
}
